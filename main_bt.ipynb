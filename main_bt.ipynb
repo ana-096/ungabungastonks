{
 "cells": [
  {
   "cell_type": "code",
   "execution_count": 102,
   "metadata": {},
   "outputs": [],
   "source": [
    "import glob\n",
    "import numpy as np\n",
    "import pandas as pd\n",
    "from backtesting import Backtest, Strategy\n",
    "from backtesting.lib import crossover\n",
    "\n",
    "CASH = 100000"
   ]
  },
  {
   "cell_type": "code",
   "execution_count": 103,
   "metadata": {},
   "outputs": [],
   "source": [
    "path = \"./*.csv\"\n",
    "files = glob.glob(path)\n",
    "\n",
    "start_equity = CASH * len(files)\n",
    "\n",
    "names = [x[2:-4] for x in files]\n",
    "\n",
    "stocks = {\n",
    "    name: stock for name, stock in zip(names, [pd.read_csv(file, parse_dates=['Date']) for file in files])\n",
    "}\n",
    "\n",
    "for stock in stocks.values():\n",
    "    stock.set_index('Date',inplace=True)\n",
    "    stock.sort_index(inplace=True)"
   ]
  },
  {
   "cell_type": "code",
   "execution_count": 104,
   "metadata": {},
   "outputs": [],
   "source": [
    "def SMA(values, n):\n",
    "    \"\"\"\n",
    "    Return simple moving average of `values`, at\n",
    "    each step taking into account `n` previous values.\n",
    "    \"\"\"\n",
    "    return pd.Series(values).rolling(n).mean()"
   ]
  },
  {
   "cell_type": "code",
   "execution_count": 105,
   "metadata": {},
   "outputs": [],
   "source": [
    "class SmaCross(Strategy):\n",
    "    # Define the two MA lags as *class variables*\n",
    "    # for later optimization\n",
    "    n1 = 10\n",
    "    n2 = 20\n",
    "    \n",
    "    def init(self):\n",
    "        # Precompute the two moving averages\n",
    "        self.sma1 = self.I(SMA, self.data.Close, self.n1)\n",
    "        self.sma2 = self.I(SMA, self.data.Close, self.n2)\n",
    "    \n",
    "    def next(self):\n",
    "        # If sma1 crosses above sma2, close any existing\n",
    "        # short trades, and buy the asset\n",
    "        if crossover(self.sma1, self.sma2):\n",
    "            self.position.close()\n",
    "            self.buy()\n",
    "\n",
    "        # Else, if sma1 crosses below sma2, close any existing\n",
    "        # long trades, and sell the asset\n",
    "        elif crossover(self.sma2, self.sma1):\n",
    "            self.position.close()\n",
    "            self.sell()"
   ]
  },
  {
   "cell_type": "code",
   "execution_count": 106,
   "metadata": {},
   "outputs": [],
   "source": [
    "stats = {}\n",
    "for name, stock in stocks.items():\n",
    "    bt = Backtest(stock, SmaCross, cash=100000, commission=.0025)\n",
    "    # stats[name] = bt.optimize(n1=range(5, 30, 5),\n",
    "    #                 n2=range(10, 70, 5),\n",
    "    #                 maximize='Return [%]',\n",
    "    #                 constraint=lambda param: param.n1 < param.n2)\n",
    "    stats[name] = bt.run()"
   ]
  },
  {
   "cell_type": "code",
   "execution_count": 107,
   "metadata": {},
   "outputs": [],
   "source": [
    "final_equity = 0\n",
    "for name, stock in stats.items():\n",
    "    final_equity += stock[\"Equity Final [$]\"]\n",
    "    # print(stock._strategy)"
   ]
  },
  {
   "cell_type": "code",
   "execution_count": 108,
   "metadata": {},
   "outputs": [
    {
     "name": "stdout",
     "output_type": "stream",
     "text": [
      "400000\n",
      "956804.5359087526\n",
      "239.20%\n"
     ]
    }
   ],
   "source": [
    "print(start_equity)\n",
    "print(final_equity)\n",
    "print('{:.2%}'.format(final_equity/start_equity))\n",
    "# nasdaq comp at 254% or something\n",
    "# but! inflation at (1)22.3%"
   ]
  }
 ],
 "metadata": {
  "kernelspec": {
   "display_name": "Python 3",
   "language": "python",
   "name": "python3"
  },
  "language_info": {
   "codemirror_mode": {
    "name": "ipython",
    "version": 3
   },
   "file_extension": ".py",
   "mimetype": "text/x-python",
   "name": "python",
   "nbconvert_exporter": "python",
   "pygments_lexer": "ipython3",
   "version": "3.11.3"
  }
 },
 "nbformat": 4,
 "nbformat_minor": 2
}
